{
 "cells": [
  {
   "cell_type": "markdown",
   "id": "40a44a14-3ca9-49d2-b484-22aa27da0da7",
   "metadata": {},
   "source": [
    "**installation_check.ipynb**\n",
    "\n",
    "check if all dependencies are well installed.\n",
    "\n",
    "*Wonhee Lee*\n",
    "\n",
    "*2024 FEB 05 (MON)*"
   ]
  },
  {
   "cell_type": "markdown",
   "id": "9e2f556d-896a-49cc-9ae1-ed3e30a8e7b3",
   "metadata": {},
   "source": [
    "# PyTorch"
   ]
  },
  {
   "cell_type": "code",
   "execution_count": 1,
   "id": "3c7e6bcb-116e-426b-b545-ea334458bb73",
   "metadata": {},
   "outputs": [],
   "source": [
    "import torch"
   ]
  },
  {
   "cell_type": "code",
   "execution_count": 2,
   "id": "57c5cf3b-01f2-457f-b729-2744fc82efc0",
   "metadata": {},
   "outputs": [
    {
     "name": "stdout",
     "output_type": "stream",
     "text": [
      "2.2.0\n",
      "12.1\n"
     ]
    },
    {
     "data": {
      "text/plain": [
       "True"
      ]
     },
     "execution_count": 2,
     "metadata": {},
     "output_type": "execute_result"
    }
   ],
   "source": [
    "print(torch.__version__)\n",
    "print(torch.version.cuda)\n",
    "torch.cuda.is_available()"
   ]
  },
  {
   "cell_type": "markdown",
   "id": "8e23420c-a4b3-41a0-9321-ec1b01002031",
   "metadata": {},
   "source": [
    "# Ultralytics"
   ]
  },
  {
   "cell_type": "markdown",
   "id": "ed67f10f-8c07-46e0-80b7-260935b91ee0",
   "metadata": {},
   "source": [
    "https://docs.ultralytics.com/reference/engine/results/#ultralytics.engine.results.Results.plot"
   ]
  },
  {
   "cell_type": "code",
   "execution_count": 1,
   "id": "9b0045e5-cc0c-415b-bf7a-519457433910",
   "metadata": {},
   "outputs": [],
   "source": [
    "from ultralytics import YOLO\n",
    "from PIL import Image"
   ]
  },
  {
   "cell_type": "code",
   "execution_count": 31,
   "id": "b3418e17-d8cf-49b6-aecb-f495102a152b",
   "metadata": {},
   "outputs": [
    {
     "name": "stdout",
     "output_type": "stream",
     "text": [
      "\n",
      "image 1/1 /home/tershire/Documents/SLAM/Tello_SLAM/python_tools/images/new_york_pedestrians.jpg: 448x640 12 persons, 4 cars, 7 traffic lights, 7.7ms\n",
      "Speed: 0.9ms preprocess, 7.7ms inference, 0.9ms postprocess per image at shape (1, 3, 448, 640)\n"
     ]
    }
   ],
   "source": [
    "model = YOLO('yolov5nu.pt')  # initialize model\n",
    "results = model('./images/new_york_pedestrians.jpg')  # perform inference\n",
    "for r in results:\n",
    "    im_array = r.plot()  # plot a BGR numpy array of predictions\n",
    "    im = Image.fromarray(im_array[..., ::-1])  # RGB PIL image\n",
    "    im.show()  # show image\n",
    "    # im.save('results.jpg')  # save image"
   ]
  },
  {
   "cell_type": "code",
   "execution_count": null,
   "id": "f3cc9538-ca22-467f-80f9-2de78fb324d1",
   "metadata": {},
   "outputs": [],
   "source": []
  }
 ],
 "metadata": {
  "kernelspec": {
   "display_name": "Python 3 (ipykernel)",
   "language": "python",
   "name": "python3"
  },
  "language_info": {
   "codemirror_mode": {
    "name": "ipython",
    "version": 3
   },
   "file_extension": ".py",
   "mimetype": "text/x-python",
   "name": "python",
   "nbconvert_exporter": "python",
   "pygments_lexer": "ipython3",
   "version": "3.10.13"
  }
 },
 "nbformat": 4,
 "nbformat_minor": 5
}
