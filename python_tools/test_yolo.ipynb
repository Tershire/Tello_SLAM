{
 "cells": [
  {
   "cell_type": "markdown",
   "id": "f18418cc-0000-41c8-ac83-9b3ff04d79d5",
   "metadata": {},
   "source": [
    "**test_yolo.ipynb**\n",
    "\n",
    "test YOLO network.\n",
    "\n",
    "*Wonhee Lee*\n",
    "\n",
    "*2024 FEB 23 (FRI)*"
   ]
  },
  {
   "cell_type": "code",
   "execution_count": 1,
   "id": "360c8bb7-6947-4ec6-be4c-00cc999fb5f1",
   "metadata": {},
   "outputs": [],
   "source": [
    "from ultralytics import YOLO"
   ]
  },
  {
   "cell_type": "code",
   "execution_count": 2,
   "id": "2a71b2a8-6503-4a35-a9a4-313a0da39c64",
   "metadata": {},
   "outputs": [],
   "source": [
    "from PIL import Image"
   ]
  },
  {
   "cell_type": "markdown",
   "id": "7b86edf4-2415-4757-83ef-498c88e5cfb0",
   "metadata": {},
   "source": [
    "# test"
   ]
  },
  {
   "cell_type": "code",
   "execution_count": 3,
   "id": "c1e00bf1-4648-4809-a673-1278a47be304",
   "metadata": {},
   "outputs": [],
   "source": [
    "import glob"
   ]
  },
  {
   "cell_type": "code",
   "execution_count": 4,
   "id": "e89570b5-3bc4-4177-aacd-c49f0327059f",
   "metadata": {},
   "outputs": [],
   "source": [
    "test_image_directory_path = \"/home/tershire/Pictures/doors/test\"\n",
    "image_file_format = \".png\""
   ]
  },
  {
   "cell_type": "code",
   "execution_count": 5,
   "id": "c42a1efd-976c-4fa2-bd8f-cd1aed8754b8",
   "metadata": {},
   "outputs": [],
   "source": [
    "image_paths = iter(list(glob.iglob(test_image_directory_path + \"/*\" + image_file_format)))"
   ]
  },
  {
   "cell_type": "code",
   "execution_count": 14,
   "id": "2d356fa8-6484-41c3-b800-d410fb45a2cf",
   "metadata": {},
   "outputs": [
    {
     "name": "stdout",
     "output_type": "stream",
     "text": [
      "/home/tershire/Pictures/doors/test/image167.png\n",
      "\n",
      "image 1/1 /home/tershire/Pictures/doors/test/image167.png: 320x640 2 opens, 1 semi, 2 closeds, 5.3ms\n",
      "Speed: 1.5ms preprocess, 5.3ms inference, 0.9ms postprocess per image at shape (1, 3, 320, 640)\n"
     ]
    }
   ],
   "source": [
    "model = YOLO(\"./runs/detect/train5/weights/best.pt\")  # initialize model\n",
    "\n",
    "image_path = next(image_paths)\n",
    "print(image_path)\n",
    "\n",
    "results = model(image_path)  # perform inference\n",
    "for result in results:\n",
    "    image_array = result.plot()  # plot a BGR numpy array of predictions\n",
    "    image = Image.fromarray(image_array[..., ::-1])  # RGB PIL image\n",
    "    image.show()  # show image\n",
    "    # image.save('results.jpg')  # save image"
   ]
  },
  {
   "cell_type": "code",
   "execution_count": 15,
   "id": "1048be3b-4b29-4174-b168-4a47fe256243",
   "metadata": {},
   "outputs": [
    {
     "name": "stdout",
     "output_type": "stream",
     "text": [
      "\n",
      "image 1/1 /home/tershire/Documents/SLAM/Tello_SLAM/python_tools/images/new_york_pedestrians.jpg: 448x640 2 closeds, 45.5ms\n",
      "Speed: 0.8ms preprocess, 45.5ms inference, 0.9ms postprocess per image at shape (1, 3, 448, 640)\n"
     ]
    }
   ],
   "source": [
    "model = YOLO('./runs/detect/train2/weights/best.pt')  # initialize model\n",
    "results = model('./images/new_york_pedestrians.jpg')  # perform inference\n",
    "for result in results:\n",
    "    image_array = result.plot()  # plot a BGR numpy array of predictions\n",
    "    image = Image.fromarray(image_array[..., ::-1])  # RGB PIL image\n",
    "    image.show()  # show image\n",
    "    # image.save('results.jpg')  # save image"
   ]
  },
  {
   "cell_type": "code",
   "execution_count": null,
   "id": "7706cc0c-b80d-4f0d-a7ca-8d01b8e143c8",
   "metadata": {},
   "outputs": [],
   "source": []
  }
 ],
 "metadata": {
  "kernelspec": {
   "display_name": "Python 3 (ipykernel)",
   "language": "python",
   "name": "python3"
  },
  "language_info": {
   "codemirror_mode": {
    "name": "ipython",
    "version": 3
   },
   "file_extension": ".py",
   "mimetype": "text/x-python",
   "name": "python",
   "nbconvert_exporter": "python",
   "pygments_lexer": "ipython3",
   "version": "3.10.13"
  }
 },
 "nbformat": 4,
 "nbformat_minor": 5
}
