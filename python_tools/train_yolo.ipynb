{
 "cells": [
  {
   "cell_type": "markdown",
   "id": "ffdbef02-1d9d-4031-843f-fc055124f9ba",
   "metadata": {},
   "source": [
    "**train_yolo.ipynb**\n",
    "\n",
    "train YOLO network.\n",
    "\n",
    "*Wonhee Lee*\n",
    "\n",
    "*2024 FEB 22 (THU)*"
   ]
  },
  {
   "cell_type": "code",
   "execution_count": 1,
   "id": "39de8053-f77d-4e14-b28d-38c58118a236",
   "metadata": {},
   "outputs": [],
   "source": [
    "from ultralytics import YOLO"
   ]
  },
  {
   "cell_type": "markdown",
   "id": "a6f0fa49-1ea0-44db-822d-a3c4d6098b45",
   "metadata": {},
   "source": [
    "# train"
   ]
  },
  {
   "cell_type": "markdown",
   "id": "1120526a-1204-4b3d-8812-ac822fe926f0",
   "metadata": {},
   "source": [
    "https://docs.ultralytics.com/modes/train/#arguments"
   ]
  },
  {
   "cell_type": "code",
   "execution_count": null,
   "id": "a43a478d-5a66-4fa5-8b35-1ba722f34c00",
   "metadata": {},
   "outputs": [],
   "source": [
    "model = YOLO(\"yolov8n-door.pt\")\n",
    "model.train(\n",
    "    data=\".yaml\",\n",
    "    epochs=30,  # max epochs\n",
    "    time=1,  # max training time in [hr]\n",
    "    patience=5,  # early stop\n",
    "    batch=16,  # minibatch size\n",
    "    imgsz=640,  # image size\n",
    "    save=True,  # save checkpoints & final model parameters\n",
    "    pretrained=True,  # train on top of the pre-trained model\n",
    "    dropout=0.0,  # dropout rate\n",
    "    plots=True  # plot metrics\n",
    ")"
   ]
  },
  {
   "cell_type": "code",
   "execution_count": null,
   "id": "a82d6d2d-1e55-4693-8594-b1c1873a74c2",
   "metadata": {},
   "outputs": [],
   "source": []
  }
 ],
 "metadata": {
  "kernelspec": {
   "display_name": "Python 3 (ipykernel)",
   "language": "python",
   "name": "python3"
  },
  "language_info": {
   "codemirror_mode": {
    "name": "ipython",
    "version": 3
   },
   "file_extension": ".py",
   "mimetype": "text/x-python",
   "name": "python",
   "nbconvert_exporter": "python",
   "pygments_lexer": "ipython3",
   "version": "3.10.13"
  }
 },
 "nbformat": 4,
 "nbformat_minor": 5
}
