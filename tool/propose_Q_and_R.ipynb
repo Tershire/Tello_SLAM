{
 "cells": [
  {
   "cell_type": "markdown",
   "id": "249b4d14-a6ce-49b5-8401-f3b95963cdfa",
   "metadata": {},
   "source": [
    "propose_Q_and_R.py\n",
    "\n",
    "\n",
    "2024 MAR 22\n",
    "\n",
    "Wonhee LEE"
   ]
  },
  {
   "cell_type": "code",
   "execution_count": 1,
   "id": "a4c984f8-3068-4661-992e-b8dbb1edd47c",
   "metadata": {},
   "outputs": [],
   "source": [
    "import numpy as np"
   ]
  },
  {
   "cell_type": "code",
   "execution_count": 5,
   "id": "b1d5d338-dfb6-480a-818f-fa8d6561891c",
   "metadata": {},
   "outputs": [
    {
     "name": "stdout",
     "output_type": "stream",
     "text": [
      "[3.98942280e-01 3.19448006e-01 1.64010075e-01 5.39909665e-02\n",
      " 1.13959860e-02 1.54227900e-03 1.33830226e-04 7.44604587e-06\n",
      " 2.65630191e-07 6.07588285e-09]\n"
     ]
    }
   ],
   "source": [
    "mu = 0\n",
    "sigma = 1.5\n",
    "\n",
    "v = np.array(range(10))\n",
    "\n",
    "p = 1/(np.sqrt(2*np.pi))*np.exp(-0.5*((v - mu)/sigma)*((v - mu)/sigma))\n",
    "\n",
    "print(p)"
   ]
  },
  {
   "cell_type": "code",
   "execution_count": null,
   "id": "ca9db7b3-859b-4a82-a513-2dcb1305cb23",
   "metadata": {},
   "outputs": [],
   "source": []
  }
 ],
 "metadata": {
  "kernelspec": {
   "display_name": "Python 3 (ipykernel)",
   "language": "python",
   "name": "python3"
  },
  "language_info": {
   "codemirror_mode": {
    "name": "ipython",
    "version": 3
   },
   "file_extension": ".py",
   "mimetype": "text/x-python",
   "name": "python",
   "nbconvert_exporter": "python",
   "pygments_lexer": "ipython3",
   "version": "3.10.13"
  }
 },
 "nbformat": 4,
 "nbformat_minor": 5
}
